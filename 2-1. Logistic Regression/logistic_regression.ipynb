{
 "cells": [
  {
   "cell_type": "markdown",
   "id": "5e5aeee1-2103-4fb5-a2f2-84991484968b",
   "metadata": {},
   "source": [
    "## Homework 2 Q1: Logistic Regression"
   ]
  },
  {
   "cell_type": "code",
   "execution_count": 1,
   "id": "3771ab86-8673-4601-92c4-1a768da5c9b1",
   "metadata": {},
   "outputs": [
    {
     "name": "stdout",
     "output_type": "stream",
     "text": [
      "Your name and email: Seonho Woo (Claire) <clairewo@umich.edu>\n"
     ]
    }
   ],
   "source": [
    "__NAME__ = \"Seonho Woo (Claire)\"\n",
    "__UNIQID__ = \"clairewo\"\n",
    "\n",
    "print(f\"Your name and email: {__NAME__} <{__UNIQID__}@umich.edu>\")\n",
    "assert __NAME__ and __UNIQID__"
   ]
  },
  {
   "cell_type": "markdown",
   "id": "ecc5b473-5ec6-466d-a466-b0b077a8f3cc",
   "metadata": {},
   "source": [
    "# Logistic Regression\n",
    "In this notebook you will implement a Logistic Regression algorithm from a given dataset. \n",
    "\n",
    "Among various ways in computing gradient, this task will use Newton's Method for optimizing the weights.\n",
    "\n",
    "After implementing the logistic regression, you will report the coefficients **w** and the plot."
   ]
  },
  {
   "cell_type": "markdown",
   "id": "00a2e071-6a48-44de-9012-d2e8b3cfe8b0",
   "metadata": {},
   "source": [
    "## Setup code\n",
    "Before getting started, we need to run some boilerplate code to set up our environment. You'll need to rerun this setup code each time you start the notebook. Let's start by checking whether we are using Python 3.10 or higher."
   ]
  },
  {
   "cell_type": "code",
   "execution_count": 2,
   "id": "c9e134ab-fb4e-4148-bf35-b2da42bde00a",
   "metadata": {},
   "outputs": [
    {
     "name": "stdout",
     "output_type": "stream",
     "text": [
      "You are good to go\n"
     ]
    }
   ],
   "source": [
    "import sys\n",
    "if sys.version_info[0] < 3:\n",
    "    raise Exception(\"You must use Python 3\")\n",
    "\n",
    "if sys.version_info[1] < 10:\n",
    "    print(\"Autograder will execute your code based on Python 3.10 environment. Please use Python 3.10 or higher to prevent any issues\")\n",
    "    print(\"You can create a conda environment with Python 3.10 like 'conda create --name eecs545 python=3.10'\")\n",
    "    raise Exception(\"Python 3 version is too low: {}\".format(sys.version))\n",
    "else:\n",
    "    print(\"You are good to go\")"
   ]
  },
  {
   "cell_type": "markdown",
   "id": "a2f7473e-f6f6-4103-a2db-6f6bac0a118e",
   "metadata": {},
   "source": [
    "First, run this cell load the [autoreload](https://ipython.readthedocs.io/en/stable/config/extensions/autoreload.html) extension. This allows us to edit `.py` source files, and re-import them into the notebook for a seamless editing and debugging experience."
   ]
  },
  {
   "cell_type": "code",
   "execution_count": 3,
   "id": "4dfbe411-7f01-4bd1-96de-f84a51ce9ada",
   "metadata": {},
   "outputs": [],
   "source": [
    "%load_ext autoreload\n",
    "%autoreload 2"
   ]
  },
  {
   "cell_type": "markdown",
   "id": "5f00f238-ee5a-44aa-95b2-3d611aa43035",
   "metadata": {},
   "source": [
    "Once you located the `logistic_regression.py` correctly, run the following cell allow us to import from `logistic_regression.py`. If it works correctly, it should print the message:\n",
    "```Hello from logistic_regression.py```"
   ]
  },
  {
   "cell_type": "code",
   "execution_count": 4,
   "id": "dfe48494-bfcf-4cd6-ab99-5683563d0b71",
   "metadata": {},
   "outputs": [
    {
     "name": "stdout",
     "output_type": "stream",
     "text": [
      "Hello from logistic_regression.py\n"
     ]
    }
   ],
   "source": [
    "from logistic_regression import hello\n",
    "hello()"
   ]
  },
  {
   "cell_type": "markdown",
   "id": "2097b152-ed0d-4389-b9e6-4df4c50d5741",
   "metadata": {},
   "source": [
    "Then, we run some setup code for this notebook: Import some useful packages and increase the default figure size."
   ]
  },
  {
   "cell_type": "code",
   "execution_count": 5,
   "id": "b6662d2f-3952-4643-9dfb-10f08e79105b",
   "metadata": {},
   "outputs": [
    {
     "name": "stdout",
     "output_type": "stream",
     "text": [
      "Requirement already satisfied: numpy==1.24.1 in /Users/clairewoo/.venv/lib/python3.10/site-packages (1.24.1)\n",
      "Requirement already satisfied: matplotlib==3.6.2 in /Users/clairewoo/.venv/lib/python3.10/site-packages (3.6.2)\n",
      "Requirement already satisfied: fonttools>=4.22.0 in /Users/clairewoo/.venv/lib/python3.10/site-packages (from matplotlib==3.6.2) (4.38.0)\n",
      "Requirement already satisfied: packaging>=20.0 in /Users/clairewoo/.venv/lib/python3.10/site-packages (from matplotlib==3.6.2) (23.0)\n",
      "Requirement already satisfied: python-dateutil>=2.7 in /Users/clairewoo/.venv/lib/python3.10/site-packages (from matplotlib==3.6.2) (2.8.2)\n",
      "Requirement already satisfied: contourpy>=1.0.1 in /Users/clairewoo/.venv/lib/python3.10/site-packages (from matplotlib==3.6.2) (1.0.7)\n",
      "Requirement already satisfied: cycler>=0.10 in /Users/clairewoo/.venv/lib/python3.10/site-packages (from matplotlib==3.6.2) (0.11.0)\n",
      "Requirement already satisfied: pyparsing>=2.2.1 in /Users/clairewoo/.venv/lib/python3.10/site-packages (from matplotlib==3.6.2) (3.0.9)\n",
      "Requirement already satisfied: kiwisolver>=1.0.1 in /Users/clairewoo/.venv/lib/python3.10/site-packages (from matplotlib==3.6.2) (1.4.4)\n",
      "Requirement already satisfied: pillow>=6.2.0 in /Users/clairewoo/.venv/lib/python3.10/site-packages (from matplotlib==3.6.2) (9.4.0)\n",
      "Requirement already satisfied: six>=1.5 in /Users/clairewoo/.venv/lib/python3.10/site-packages (from python-dateutil>=2.7->matplotlib==3.6.2) (1.16.0)\n",
      "\n",
      "\u001b[1m[\u001b[0m\u001b[34;49mnotice\u001b[0m\u001b[1;39;49m]\u001b[0m\u001b[39;49m A new release of pip available: \u001b[0m\u001b[31;49m22.3.1\u001b[0m\u001b[39;49m -> \u001b[0m\u001b[32;49m23.0\u001b[0m\n",
      "\u001b[1m[\u001b[0m\u001b[34;49mnotice\u001b[0m\u001b[1;39;49m]\u001b[0m\u001b[39;49m To update, run: \u001b[0m\u001b[32;49mpip install --upgrade pip\u001b[0m\n"
     ]
    }
   ],
   "source": [
    "# install required libraries\n",
    "!pip install numpy==1.24.1 matplotlib==3.6.2 \n",
    "\n",
    "# import libraries\n",
    "import math\n",
    "import numpy as np\n",
    "import matplotlib.pyplot as plt\n",
    "\n",
    "# set figure size\n",
    "plt.rcParams['figure.figsize'] = (10.0, 8.0)\n",
    "plt.rcParams['font.size'] = 16"
   ]
  },
  {
   "cell_type": "code",
   "execution_count": 6,
   "id": "f697afce-2943-4f3b-a8dd-a56ef4992ed3",
   "metadata": {},
   "outputs": [
    {
     "data": {
      "text/html": [
       "\n",
       "<style type=\"text/css\">\n",
       "  .instruction { background-color: yellow; font-weight:bold; padding: 3px; }\n",
       "</style>\n"
      ]
     },
     "metadata": {},
     "output_type": "display_data"
    }
   ],
   "source": [
    "from IPython.display import display_html, HTML\n",
    "\n",
    "display_html(HTML('''\n",
    "<style type=\"text/css\">\n",
    "  .instruction { background-color: yellow; font-weight:bold; padding: 3px; }\n",
    "</style>\n",
    "'''));"
   ]
  },
  {
   "cell_type": "markdown",
   "id": "cb67a55b-7773-46b7-8d27-3694ecb8c655",
   "metadata": {},
   "source": [
    "## Load the dataset\n",
    "The following cell will load the dataset and show the dimension of each file. The two columns of `q1x.npy` represent the inputs ($x^{(i)}$) and `q1y.npy` represents the outputs $y^{(i)} \\in { 0, 1 }$, with one training example per row."
   ]
  },
  {
   "cell_type": "code",
   "execution_count": 7,
   "id": "d204ff13",
   "metadata": {},
   "outputs": [
    {
     "name": "stdout",
     "output_type": "stream",
     "text": [
      "Load data/q1x.npy and stored it as X. The shape of the data is (99, 2)\n",
      "First three rows looks like [[ 1.3112952  -0.93399107]\n",
      " [ 1.4083846   1.726771  ]\n",
      " [ 0.97579413  1.3794301 ]]\n",
      "Load data/q1y.npy and stored it as Y. The shape of the data is (99,)\n",
      "First three rows looks like [0. 0. 0.]\n"
     ]
    }
   ],
   "source": [
    "import os\n",
    "\n",
    "input_data = {}\n",
    "for label, filename in [['X', 'data/q1x.npy'], ['Y', 'data/q1y.npy']]:\n",
    "    if not os.path.exists(filename):\n",
    "        raise Exception(f'Oops! We failed to find the data file {filename}')\n",
    "    else:\n",
    "        input_data[label] = np.load(filename)\n",
    "        print(f'Load {filename} and stored it as {label}. The shape of the data is {input_data[label].shape}')\n",
    "        print(f'First three rows looks like {input_data[label][:3]}')"
   ]
  },
  {
   "cell_type": "markdown",
   "id": "71791b4f-4ff5-4be3-9d74-4fbe4ba9f906",
   "metadata": {},
   "source": [
    "Lets begin with adding 1's to the first dimension of X, so that we can handle intercept term at once. "
   ]
  },
  {
   "cell_type": "code",
   "execution_count": 8,
   "id": "24306d7e-6573-4097-9a5d-365c78146d57",
   "metadata": {},
   "outputs": [],
   "source": [
    "N = input_data['X'].shape[0]\n",
    "input_data['X_new'] = np.concatenate((np.ones((N, 1)), input_data['X']), axis=1)"
   ]
  },
  {
   "cell_type": "markdown",
   "id": "5ea508bc-7104-437f-bdbc-eb8858c160bd",
   "metadata": {},
   "source": [
    "## Compute **w**: naive implementation\n",
    "\n",
    "Now that we have prepared our data, it is time to implement Logistic Regression. We can first compute coefficients without vecterization. <span class=\"instruction\">Implement the function `naive_logistic_regression` in `logistic_regression.py`.</span>"
   ]
  },
  {
   "cell_type": "code",
   "execution_count": 9,
   "id": "fa3af43c-bc55-4c6d-9399-50802d68ce80",
   "metadata": {},
   "outputs": [
    {
     "name": "stdout",
     "output_type": "stream",
     "text": [
      "(3,) [-1.84922892 -0.62814188  0.85846843]\n"
     ]
    }
   ],
   "source": [
    "from logistic_regression import naive_logistic_regression\n",
    "import numpy as np\n",
    "np.random.seed(0)\n",
    "\n",
    "w_naive = naive_logistic_regression(input_data['X_new'], input_data['Y'])\n",
    "\n",
    "print(w_naive.shape, w_naive)"
   ]
  },
  {
   "cell_type": "markdown",
   "id": "991f69e2-e02c-4295-b8d0-6a1f8723625c",
   "metadata": {},
   "source": [
    "## Compute **w**: vectorized implementation\n",
    "\n",
    "When implementing algorithms, it's best to avoid loops in Python if possible. Instead it is preferable to implement your computation so that all loops happen inside Numpy functions. This will usually be much faster than writing your own loops in Python, since Numpy functions can be internally optimized to iterate efficiently, possibly using multiple threads.\n",
    "\n",
    "The process of eliminating explict loops from your code is called **vectorization**. Sometimes it is straighforward to vectorize code originally written with loops; other times vectorizing requires thinking about the problem in a new way. We will use vectorization to improve the speed of our naive function.\n",
    "\n",
    "As a first step toward vectorizing our coefficient computation, you will implement a version that uses only a single Python loop over the training data. <span class=\"instruction\">In the file `logistic_regression.py`, complete the implementation of the function `vectorized_logistic_regression`.</span>\n",
    "\n",
    "We can check the correctness of our vectorized implementation by comparing it with our naive implementation over the data."
   ]
  },
  {
   "cell_type": "code",
   "execution_count": 10,
   "id": "0ac8ca8b-ff70-4149-9e34-94c8e0f44dd0",
   "metadata": {},
   "outputs": [
    {
     "name": "stdout",
     "output_type": "stream",
     "text": [
      "[-1.84922892 -0.62814188  0.85846843]\n",
      "Difference:  2.7194799110210365e-16\n",
      "Good! The distance matrices match\n"
     ]
    }
   ],
   "source": [
    "from logistic_regression import naive_logistic_regression\n",
    "from logistic_regression import vectorized_logistic_regression\n",
    "import numpy as np\n",
    "\n",
    "np.random.seed(0)\n",
    "w_naive = naive_logistic_regression(input_data['X_new'], input_data['Y'])\n",
    "w_vec = vectorized_logistic_regression(input_data['X_new'], input_data['Y'])\n",
    "print(w_vec)\n",
    "\n",
    "difference = np.sqrt(((w_naive - w_vec)**2).sum())\n",
    "print('Difference: ', difference)\n",
    "if difference < 1e-4:\n",
    "    print('Good! The distance matrices match')\n",
    "else:\n",
    "    raise Exception('Uh-oh! The distance matrices are different')"
   ]
  },
  {
   "cell_type": "markdown",
   "id": "911d5f26-52db-4f22-9f5a-2b9b282afeb8",
   "metadata": {},
   "source": [
    "We can now compare the speed of our implementations. If you've implemented everything properly, the vectorized implementation should take less than 10 seconds to run, and the naive implementation should take less than 1 seconds to run."
   ]
  },
  {
   "cell_type": "code",
   "execution_count": 11,
   "id": "5df36c8f-63cf-45ad-ba99-df8e95d08305",
   "metadata": {},
   "outputs": [
    {
     "name": "stdout",
     "output_type": "stream",
     "text": [
      "Naive version took 2.37 seconds\n",
      "Vectorized version took 0.20 seconds (11.7X speedup)\n"
     ]
    }
   ],
   "source": [
    "import time\n",
    "from logistic_regression import naive_logistic_regression\n",
    "from logistic_regression import vectorized_logistic_regression\n",
    "\n",
    "def timeit(f, *args):\n",
    "    tic = time.time()\n",
    "    f(*args) \n",
    "    toc = time.time()\n",
    "    return toc - tic\n",
    "\n",
    "x_rand = np.random.randn(1000, 10)\n",
    "y_rand = np.random.randint(2, size=1000)\n",
    "\n",
    "naive_time = timeit(naive_logistic_regression, x_rand, y_rand)\n",
    "print(f'Naive version took {naive_time:.2f} seconds')\n",
    "\n",
    "vectorized_time = timeit(vectorized_logistic_regression, x_rand, y_rand)\n",
    "speedup = naive_time / vectorized_time\n",
    "print(f'Vectorized version took {vectorized_time:.2f} seconds ({speedup:.1f}X speedup)')"
   ]
  },
  {
   "cell_type": "markdown",
   "id": "422e5b28-53bd-440e-a440-8a34ec6db252",
   "metadata": {},
   "source": [
    "## Plot the data and the coefficients\n",
    "\n",
    "We can get some intuition of our logistic regression by visualizing its predictions. You will need to show the boundary separating the region where h(x) > 0.5 from where h(x) $\\leq$ 0.5. <span class=\"instruction\">In the file `logistic_regression.py`, implement the function `compute_y_boundary`. </span>\n",
    "\n",
    "The following code will generate `logistic_regression.png` file as the final outcome. Please don't forget to attach the following figure to your report (writeup)."
   ]
  },
  {
   "cell_type": "code",
   "execution_count": 12,
   "id": "f1d97ac6-f54a-4580-8e4b-96ac56db3f42",
   "metadata": {},
   "outputs": [
    {
     "data": {
      "image/png": "[encoded data removed]",
      "text/plain": [
       "<Figure size 500x500 with 1 Axes>"
      ]
     },
     "metadata": {},
     "output_type": "display_data"
    }
   ],
   "source": [
    "from logistic_regression import vectorized_logistic_regression\n",
    "from logistic_regression import compute_y_boundary\n",
    "import numpy as np\n",
    "\n",
    "np.random.seed(0)\n",
    "w = vectorized_logistic_regression(input_data['X_new'], input_data['Y'])\n",
    "\n",
    "fig, ax = plt.subplots(figsize=(5, 5))\n",
    "for x_i, y_i in zip(input_data['X_new'], input_data['Y']):\n",
    "    if y_i == 0:\n",
    "        ax.scatter(x_i[1], x_i[2], c='r', marker='x')\n",
    "    else:\n",
    "        ax.scatter(x_i[1], x_i[2], c='g', marker='o')\n",
    "\n",
    "x_coord = np.linspace(start=min(input_data['X_new'][:, 1]), \n",
    "                      stop=max(input_data['X_new'][:, 1]), num=50)\n",
    "y_coord = compute_y_boundary(x_coord, w)\n",
    "\n",
    "if y_coord is not None:\n",
    "    ax.plot(x_coord, y_coord)\n",
    "\n",
    "ax.set_xlabel('x1')\n",
    "ax.set_ylabel('x2')\n",
    "ax.set_title('Logistic Regression')\n",
    "fig.savefig('logistic_regression.png', dpi=256)"
   ]
  }
 ],
 "metadata": {
  "kernelspec": {
   "display_name": "Python 3.10.0 64-bit",
   "language": "python",
   "name": "python3"
  },
  "language_info": {
   "codemirror_mode": {
    "name": "ipython",
    "version": 3
   },
   "file_extension": ".py",
   "mimetype": "text/x-python",
   "name": "python",
   "nbconvert_exporter": "python",
   "pygments_lexer": "ipython3",
   "version": "3.10.0"
  },
  "vscode": {
   "interpreter": {
    "hash": "aee8b7b246df8f9039afb4144a1f6fd8d2ca17a180786b69acc140d282b71a49"
   }
  }
 },
 "nbformat": 4,
 "nbformat_minor": 5
}
